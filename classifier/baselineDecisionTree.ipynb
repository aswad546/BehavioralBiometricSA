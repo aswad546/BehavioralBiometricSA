{
 "cells": [
  {
   "cell_type": "markdown",
   "id": "910b5cf8",
   "metadata": {},
   "source": [
    "# Classification using only Behavioral APIs"
   ]
  },
  {
   "cell_type": "markdown",
   "id": "d9fc0843",
   "metadata": {},
   "source": [
    "## Read in DataFrame"
   ]
  },
  {
   "cell_type": "code",
   "execution_count": null,
   "id": "6f247752",
   "metadata": {},
   "outputs": [],
   "source": [
    "import pandas as pd\n",
    "import ast\n",
    "import numpy as np\n",
    "\n",
    "# Load the labelled behavioral biometric dataset into a DataFrame\n",
    "df = pd.read_csv('/home/a8tariq/safeVM/latest_relabeled.csv')\n",
    "df"
   ]
  },
  {
   "cell_type": "markdown",
   "id": "8ce3ca1a",
   "metadata": {},
   "source": [
    "## Remove Duplicates and Preprocess"
   ]
  },
  {
   "cell_type": "code",
   "execution_count": null,
   "id": "3e220520",
   "metadata": {},
   "outputs": [],
   "source": [
    "# Filter out rows where 'script_url' contains 'datadome'\n",
    "df = df[~df['script_url'].str.contains('datadome', case=False, na=False)]\n",
    "print(f\"Dimensions of the dataset after dropping datadome: {df.shape}\")\n",
    "print(\"True samples BEFORE dropping duplicates: \", len(df[df[\"is_behavioral_biometric\"] == 't']))\n",
    "\n",
    "# Function to parse json object arrays and convert them to sorted sets for comparison\n",
    "def parse_and_sort(value):\n",
    "    if pd.isna(value):\n",
    "        return np.nan  # Return NaN as is\n",
    "    if isinstance(value, str):\n",
    "        # If it's a string, evaluate and then sort and convert to a tuple\n",
    "        try:\n",
    "            return tuple(sorted(ast.literal_eval(value)))\n",
    "        except (ValueError, SyntaxError):\n",
    "            return value  # Return original if it can't be parsed\n",
    "    elif isinstance(value, (set, list)):\n",
    "        # If it's already a set or list, just sort and convert to a tuple\n",
    "        return tuple(sorted(value))\n",
    "    return value  # If it's something else, return as is\n",
    "\n",
    "# Apply the function to the relevant columns using .loc[] to avoid SettingWithCopyWarning\n",
    "for col in [\"max_aggregated_apis\", \"aggregated_behavioral_apis\", \"aggregated_fingerprinting_apis\", \n",
    "            \"fingerprinting_source_apis\", \"behavioral_source_apis\"]:\n",
    "    df.loc[:, col] = df[col].apply(parse_and_sort)\n",
    "\n",
    "# Remove duplicates only based on the specified columns\n",
    "df_cleaned = df.drop_duplicates(subset=[\n",
    "    \"max_api_aggregation_score\", \"behavioral_api_agg_count\", \"fp_api_agg_count\", \n",
    "    \"max_behavioral_api_aggregation_score\", \"max_fingerprinting_api_aggregation_score\", \n",
    "    \"behavioral_source_api_count\", \"fingerprinting_source_api_count\", \n",
    "    \"graph_construction_failure\", \"max_aggregated_apis\", \"aggregated_behavioral_apis\", \n",
    "    \"aggregated_fingerprinting_apis\", \"fingerprinting_source_apis\", \n",
    "    \"behavioral_source_apis\"\n",
    "])\n",
    "\n",
    "print(f\"Dimensions of the dataset after dropping duplicates: {df_cleaned.shape}\")\n",
    "print(\"True samples after dropping duplicates: \", len(df_cleaned[df_cleaned[\"is_behavioral_biometric\"] == 't']))\n",
    "# Remove unnecessary features\n",
    "df_cleaned = df_cleaned.drop(columns=['script_url', 'script_id', 'code', 'attached_listeners'], axis=1)\n",
    "df_cleaned.head()\n",
    "\n",
    "print(f\"Dimensions of the dataset : {df_cleaned.shape}\")\n"
   ]
  },
  {
   "cell_type": "markdown",
   "id": "9585adfe",
   "metadata": {},
   "source": [
    "## Create Simple DataFrame with Behavioral APIs"
   ]
  },
  {
   "cell_type": "code",
   "execution_count": null,
   "id": "5878fe8e",
   "metadata": {},
   "outputs": [],
   "source": [
    "# Create a new dataframe with simple features \n",
    "simple_df = df_cleaned[['behavioral_source_apis', 'behavioral_source_api_count', 'is_behavioral_biometric']].copy()\n",
    "\n",
    "# Parse the string array into a Python list\n",
    "# simple_df['behavioral_source_apis'] = simple_df['behavioral_source_apis'].apply(ast.literal_eval)\n",
    "\n",
    "# 1. Extract the string before the period (e.g., 'MouseEvent', 'KeyboardEvent', etc.)\n",
    "simple_df['behavioral_source_apis'] = simple_df['behavioral_source_apis'].apply(lambda x: [event.split('.')[0] for event in x])\n",
    "\n",
    "# 2. Flatten the list into individual event types and count the occurrences\n",
    "# We will first explode the list of event types and then use pivot_table to count occurrences\n",
    "df_exploded = simple_df.explode('behavioral_source_apis')\n",
    "\n",
    "# 3. Create new columns for each event type and count how many times they appear per row\n",
    "df_count = df_exploded.pivot_table(index=df_exploded.index, columns='behavioral_source_apis', aggfunc='size', fill_value=0)\n",
    "\n",
    "# 4. Join the new columns with the original DataFrame\n",
    "df_final = simple_df.join(df_count)\n",
    "\n",
    "# 5. Optional: Drop the original 'events' column if not needed\n",
    "df_final.drop(columns='behavioral_source_apis', inplace=True)\n",
    "df_final.drop(columns='behavioral_source_api_count', inplace=True)\n",
    "df_final\n"
   ]
  },
  {
   "cell_type": "markdown",
   "id": "d5aa865a",
   "metadata": {},
   "source": [
    "## Unbalanced Prediction"
   ]
  },
  {
   "cell_type": "code",
   "execution_count": null,
   "id": "419b9b17",
   "metadata": {},
   "outputs": [],
   "source": [
    "from sklearn.model_selection import train_test_split\n",
    "from sklearn.ensemble import RandomForestClassifier\n",
    "from sklearn.metrics import accuracy_score, classification_report\n",
    "\n",
    "X = df_final.drop('is_behavioral_biometric', axis=1)\n",
    "Y = df_final['is_behavioral_biometric']\n",
    "# Split the data into training and testing sets (90% train, 10% test)\n",
    "X_train, X_test, y_train, y_test = train_test_split(X, Y, test_size=0.25, random_state=45)\n",
    "\n",
    "# Initialize and train a Decision Tree Classifier\n",
    "clf = RandomForestClassifier( random_state=45)\n",
    "clf.fit(X_train, y_train)\n",
    "\n",
    "# Make predictions on the test data\n",
    "train_pred = clf.predict(X_test)\n",
    "\n",
    "# Make predictions on the training data\n",
    "y_train_pred = clf.predict(X_train)\n",
    "\n",
    "# Make predictions on the test data\n",
    "y_test_pred = clf.predict(X_test)\n",
    "\n",
    "# Evaluate the model on the training set\n",
    "train_accuracy = accuracy_score(y_train, y_train_pred)\n",
    "print(f\"Training Accuracy: {train_accuracy * 100:.2f}%\")\n",
    "print(\"Training Classification Report:\")\n",
    "print(classification_report(y_train, y_train_pred))\n",
    "\n",
    "# Evaluate the model on the test set\n",
    "test_accuracy = accuracy_score(y_test, y_test_pred)\n",
    "print(f\"Test Accuracy: {test_accuracy * 100:.2f}%\")\n",
    "print(\"Test Classification Report:\")\n",
    "print(classification_report(y_test, y_test_pred))"
   ]
  },
  {
   "cell_type": "markdown",
   "id": "22081778",
   "metadata": {},
   "source": [
    "## Cross Validation Results (Unbalanced)"
   ]
  },
  {
   "cell_type": "code",
   "execution_count": null,
   "id": "7ebd8dc7",
   "metadata": {},
   "outputs": [],
   "source": [
    "from sklearn.model_selection import cross_val_score\n",
    "\n",
    "# Perform cross-validation on the balanced training set\n",
    "scores = cross_val_score(clf, X_train, y_train, cv=5)\n",
    "print(f\"Cross-validation scores: {scores}\")\n",
    "print(f\"Average cross-validation score: {scores.mean()}\")"
   ]
  },
  {
   "cell_type": "markdown",
   "id": "a18e6ab6",
   "metadata": {},
   "source": [
    "## Class Weighting Prediction"
   ]
  },
  {
   "cell_type": "code",
   "execution_count": null,
   "id": "65efb185",
   "metadata": {},
   "outputs": [],
   "source": [
    "# Class balance property should handle under-represented part of dataset\n",
    "clf = RandomForestClassifier(class_weight='balanced', random_state=45)\n",
    "\n",
    "# Step 3: Train the classifier on the training data\n",
    "clf.fit(X_train, y_train)\n",
    "\n",
    "# Make predictions on the test data\n",
    "train_pred = clf.predict(X_test)\n",
    "\n",
    "# Make predictions on the training data\n",
    "y_train_pred = clf.predict(X_train)\n",
    "\n",
    "# Make predictions on the test data\n",
    "y_test_pred = clf.predict(X_test)\n",
    "\n",
    "# Evaluate the model on the training set\n",
    "train_accuracy = accuracy_score(y_train, y_train_pred)\n",
    "print(f\"Training Accuracy: {train_accuracy * 100:.2f}%\")\n",
    "print(\"Training Classification Report:\")\n",
    "print(classification_report(y_train, y_train_pred))\n",
    "\n",
    "# Evaluate the model on the test set\n",
    "test_accuracy = accuracy_score(y_test, y_test_pred)\n",
    "print(f\"Test Accuracy: {test_accuracy * 100:.2f}%\")\n",
    "print(\"Test Classification Report:\")\n",
    "print(classification_report(y_test, y_test_pred))\n",
    "\n"
   ]
  },
  {
   "cell_type": "markdown",
   "id": "4d75184a",
   "metadata": {},
   "source": [
    "## Cross Validation Results (Class Weighting)"
   ]
  },
  {
   "cell_type": "code",
   "execution_count": null,
   "id": "3e5ee26e",
   "metadata": {},
   "outputs": [],
   "source": [
    "from sklearn.model_selection import cross_val_score\n",
    "\n",
    "# Perform cross-validation on the balanced training set\n",
    "scores = cross_val_score(clf, X_train, y_train, cv=5)\n",
    "print(f\"Cross-validation scores: {scores}\")\n",
    "print(f\"Average cross-validation score: {scores.mean()}\")\n"
   ]
  },
  {
   "cell_type": "markdown",
   "id": "b2cab6d3",
   "metadata": {},
   "source": [
    "## Oversampled Prediction"
   ]
  },
  {
   "cell_type": "code",
   "execution_count": null,
   "id": "6c8e0e4e",
   "metadata": {},
   "outputs": [],
   "source": [
    "from imblearn.over_sampling import RandomOverSampler\n",
    "\n",
    "# Step 2: Balance the training set using oversampling (or undersampling, SMOTE, etc.)\n",
    "ros = RandomOverSampler(random_state=45)\n",
    "X_train_resampled, y_train_resampled = ros.fit_resample(X_train, y_train)\n",
    "\n",
    "\n",
    "# Train a Decision Tree classifier on the balanced dataset\n",
    "clf = RandomForestClassifier(random_state=45)\n",
    "clf.fit(X_train_resampled, y_train_resampled)\n",
    "\n",
    "# Make predictions on the test data\n",
    "train_pred = clf.predict(X_test)\n",
    "\n",
    "# Make predictions on the training data\n",
    "y_train_pred = clf.predict(X_train)\n",
    "\n",
    "# Make predictions on the test data\n",
    "y_test_pred = clf.predict(X_test)\n",
    "\n",
    "# Evaluate the model on the training set\n",
    "train_accuracy = accuracy_score(y_train, y_train_pred)\n",
    "print(f\"Training Accuracy: {train_accuracy * 100:.2f}%\")\n",
    "print(\"Training Classification Report:\")\n",
    "print(classification_report(y_train, y_train_pred))\n",
    "\n",
    "# Evaluate the model on the test set\n",
    "test_accuracy = accuracy_score(y_test, y_test_pred)\n",
    "print(f\"Test Accuracy: {test_accuracy * 100:.2f}%\")\n",
    "print(\"Test Classification Report:\")\n",
    "print(classification_report(y_test, y_test_pred))\n"
   ]
  },
  {
   "cell_type": "markdown",
   "id": "0d8210f7",
   "metadata": {},
   "source": [
    "## Cross Validation Results (Oversampled)"
   ]
  },
  {
   "cell_type": "code",
   "execution_count": null,
   "id": "3b298be3",
   "metadata": {},
   "outputs": [],
   "source": [
    "from sklearn.model_selection import cross_val_score\n",
    "\n",
    "# Perform cross-validation on the balanced training set\n",
    "scores = cross_val_score(clf, X_train_resampled, y_train_resampled, cv=5)\n",
    "print(f\"Cross-validation scores: {scores}\")\n",
    "print(f\"Average cross-validation score: {scores.mean()}\")\n"
   ]
  },
  {
   "cell_type": "markdown",
   "id": "5f569941",
   "metadata": {},
   "source": [
    "## Undersampled Prediction"
   ]
  },
  {
   "cell_type": "code",
   "execution_count": null,
   "id": "ba6733b2",
   "metadata": {},
   "outputs": [],
   "source": [
    "from imblearn.under_sampling import RandomUnderSampler\n",
    "\n",
    "# Step 2: Balance the training set using oversampling (or undersampling, SMOTE, etc.)\n",
    "ros = RandomUnderSampler(random_tate=45)\n",
    "X_train_resampled, y_train_resampled = ros.fit_resample(X_train, y_train)\n",
    "\n",
    "\n",
    "# Train a Decision Tree classifier on the balanced dataset\n",
    "clf = RandomForestClassifier(random_state=45)\n",
    "clf.fit(X_train_resampled, y_train_resampled)\n",
    "\n",
    "# Make predictions and evaluate\n",
    "y_pred = clf.predict(X_test)\n",
    "print(f\"Model Accuracy: {accuracy_score(y_test, y_pred) * 100:.2f}%\")\n",
    "print(\"Classification Report:\")\n",
    "print(classification_report(y_test, y_pred))"
   ]
  },
  {
   "cell_type": "markdown",
   "id": "1b44bd94",
   "metadata": {},
   "source": [
    "## Cross Validation Results (Undersampled)"
   ]
  },
  {
   "cell_type": "code",
   "execution_count": null,
   "id": "e1ea7bdb",
   "metadata": {},
   "outputs": [],
   "source": [
    "from sklearn.model_selection import cross_val_score\n",
    "\n",
    "# Perform cross-validation on the balanced training set\n",
    "scores = cross_val_score(clf, X_train_resampled, y_train_resampled, cv=5)\n",
    "print(f\"Cross-validation scores: {scores}\")\n",
    "print(f\"Average cross-validation score: {scores.mean()}\")\n"
   ]
  },
  {
   "cell_type": "markdown",
   "id": "e6faeaf2",
   "metadata": {},
   "source": [
    "## ROC-AUC Results"
   ]
  },
  {
   "cell_type": "code",
   "execution_count": null,
   "id": "e79994d4",
   "metadata": {},
   "outputs": [],
   "source": [
    "from sklearn.metrics import roc_auc_score\n",
    "\n",
    "# Get probability predictions for ROC-AUC score\n",
    "y_pred_proba = clf.predict_proba(X_test)[:, 1]\n",
    "roc_auc = roc_auc_score(y_test, y_pred_proba)\n",
    "print(f\"ROC-AUC Score: {roc_auc:.2f}\")\n"
   ]
  }
 ],
 "metadata": {
  "kernelspec": {
   "display_name": "Python 3 (ipykernel)",
   "language": "python",
   "name": "python3"
  },
  "language_info": {
   "codemirror_mode": {
    "name": "ipython",
    "version": 3
   },
   "file_extension": ".py",
   "mimetype": "text/x-python",
   "name": "python",
   "nbconvert_exporter": "python",
   "pygments_lexer": "ipython3",
   "version": "3.12.7"
  }
 },
 "nbformat": 4,
 "nbformat_minor": 5
}
