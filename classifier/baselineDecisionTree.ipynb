{
 "cells": [
  {
   "cell_type": "markdown",
   "id": "d9fc0843",
   "metadata": {},
   "source": [
    "## Read in DataFrame"
   ]
  },
  {
   "cell_type": "code",
   "execution_count": null,
   "id": "6f247752",
   "metadata": {},
   "outputs": [],
   "source": [
    "import pandas as pd\n",
    "import ast\n",
    "\n",
    "# Load the labelled behavioral biometric dataset into a DataFrame\n",
    "df = pd.read_csv('/home/a8tariq/safeVM/labelled_108.csv')\n",
    "df.head()"
   ]
  },
  {
   "cell_type": "markdown",
   "id": "8ce3ca1a",
   "metadata": {},
   "source": [
    "## Remove Duplicates and Preprocess"
   ]
  },
  {
   "cell_type": "code",
   "execution_count": null,
   "id": "3e220520",
   "metadata": {},
   "outputs": [],
   "source": [
    "# Remove rows with duplicate 'script_url'\n",
    "df = df.drop_duplicates(subset=['script_url'], keep='first')\n",
    "\n",
    "\n",
    "# Filter out rows where 'script_url' contains 'datadome'\n",
    "df = df[~df['script_url'].str.contains('datadome', case=False, na=False)]\n",
    "\n",
    "# Remove unnecessary features\n",
    "df.drop(columns=['script_url', 'script_id', 'code', 'attached_listeners'], axis=1, inplace=True)\n",
    "df.head()\n",
    "\n",
    "print(f\"Dimensions of the dataset: {df.shape}\")\n"
   ]
  },
  {
   "cell_type": "markdown",
   "id": "9585adfe",
   "metadata": {},
   "source": [
    "## Create Simple DataFrame with Behavioral APIs"
   ]
  },
  {
   "cell_type": "code",
   "execution_count": null,
   "id": "5878fe8e",
   "metadata": {},
   "outputs": [],
   "source": [
    "# Create a new dataframe with simple features \n",
    "simple_df = df[['behavioral_source_apis', 'behavioral_source_api_count', 'is_behavioral_biometric']].copy()\n",
    "\n",
    "# Parse the string array into a Python list\n",
    "simple_df['behavioral_source_apis'] = simple_df['behavioral_source_apis'].apply(ast.literal_eval)\n",
    "\n",
    "# 1. Extract the string before the period (e.g., 'MouseEvent', 'KeyboardEvent', etc.)\n",
    "simple_df['behavioral_source_apis'] = simple_df['behavioral_source_apis'].apply(lambda x: [event.split('.')[0] for event in x])\n",
    "\n",
    "# 2. Flatten the list into individual event types and count the occurrences\n",
    "# We will first explode the list of event types and then use pivot_table to count occurrences\n",
    "df_exploded = simple_df.explode('behavioral_source_apis')\n",
    "\n",
    "# 3. Create new columns for each event type and count how many times they appear per row\n",
    "df_count = df_exploded.pivot_table(index=df_exploded.index, columns='behavioral_source_apis', aggfunc='size', fill_value=0)\n",
    "\n",
    "# 4. Join the new columns with the original DataFrame\n",
    "df_final = simple_df.join(df_count)\n",
    "\n",
    "# 5. Optional: Drop the original 'events' column if not needed\n",
    "df_final.drop(columns='behavioral_source_apis', inplace=True)\n",
    "df_final.drop(columns='behavioral_source_api_count', inplace=True)\n",
    "df_final\n"
   ]
  },
  {
   "cell_type": "markdown",
   "id": "d5aa865a",
   "metadata": {},
   "source": [
    "## Unbalanced Prediction"
   ]
  },
  {
   "cell_type": "code",
   "execution_count": null,
   "id": "419b9b17",
   "metadata": {},
   "outputs": [],
   "source": [
    "from sklearn.model_selection import train_test_split\n",
    "from sklearn.tree import DecisionTreeClassifier\n",
    "from sklearn.metrics import accuracy_score, classification_report\n",
    "\n",
    "X = df_final.drop('is_behavioral_biometric', axis=1)\n",
    "Y = df_final['is_behavioral_biometric']\n",
    "# Split the data into training and testing sets (90% train, 10% test)\n",
    "X_train, X_test, y_train, y_test = train_test_split(X, Y, test_size=0.1, random_state=45)\n",
    "\n",
    "# Initialize and train a Decision Tree Classifier\n",
    "clf = DecisionTreeClassifier(random_state=45)\n",
    "clf.fit(X_train, y_train)\n",
    "\n",
    "# Make predictions on the test data\n",
    "y_pred = clf.predict(X_test)\n",
    "\n",
    "# Evaluate the model\n",
    "accuracy = accuracy_score(y_test, y_pred)\n",
    "print(f\"Model Accuracy: {accuracy * 100:.2f}%\")\n",
    "\n",
    "# Print a detailed classification report\n",
    "print(\"Classification Report:\")\n",
    "print(classification_report(y_test, y_pred))"
   ]
  },
  {
   "cell_type": "markdown",
   "id": "22081778",
   "metadata": {},
   "source": [
    "## Cross Validation Results (Unbalanced)"
   ]
  },
  {
   "cell_type": "code",
   "execution_count": null,
   "id": "7ebd8dc7",
   "metadata": {},
   "outputs": [],
   "source": [
    "from sklearn.model_selection import cross_val_score\n",
    "\n",
    "# Perform cross-validation on the balanced training set\n",
    "scores = cross_val_score(clf, X_train, y_train, cv=5)\n",
    "print(f\"Cross-validation scores: {scores}\")\n",
    "print(f\"Average cross-validation score: {scores.mean()}\")"
   ]
  },
  {
   "cell_type": "markdown",
   "id": "a18e6ab6",
   "metadata": {},
   "source": [
    "## Class Weighting Prediction"
   ]
  },
  {
   "cell_type": "code",
   "execution_count": null,
   "id": "65efb185",
   "metadata": {},
   "outputs": [],
   "source": [
    "# Class balance property should handle under-represented part of dataset\n",
    "clf = DecisionTreeClassifier(class_weight='balanced', random_state=45)\n",
    "\n",
    "# Step 3: Train the classifier on the training data\n",
    "clf.fit(X_train, y_train)\n",
    "\n",
    "# Step 4: Make predictions on the test data\n",
    "y_pred = clf.predict(X_test)\n",
    "\n",
    "# Step 5: Evaluate the model\n",
    "accuracy = accuracy_score(y_test, y_pred)\n",
    "print(f\"Model Accuracy: {accuracy * 100:.2f}%\")\n",
    "\n",
    "# Detailed classification report\n",
    "print(\"Classification Report:\")\n",
    "print(classification_report(y_test, y_pred))\n",
    "\n"
   ]
  },
  {
   "cell_type": "markdown",
   "id": "4d75184a",
   "metadata": {},
   "source": [
    "## Cross Validation Results (Class Weighting)"
   ]
  },
  {
   "cell_type": "code",
   "execution_count": null,
   "id": "3e5ee26e",
   "metadata": {},
   "outputs": [],
   "source": [
    "from sklearn.model_selection import cross_val_score\n",
    "\n",
    "# Perform cross-validation on the balanced training set\n",
    "scores = cross_val_score(clf, X_train, y_train, cv=5)\n",
    "print(f\"Cross-validation scores: {scores}\")\n",
    "print(f\"Average cross-validation score: {scores.mean()}\")\n"
   ]
  },
  {
   "cell_type": "markdown",
   "id": "b2cab6d3",
   "metadata": {},
   "source": [
    "## Oversampled Prediction"
   ]
  },
  {
   "cell_type": "code",
   "execution_count": null,
   "id": "6c8e0e4e",
   "metadata": {},
   "outputs": [],
   "source": [
    "from imblearn.over_sampling import RandomOverSampler\n",
    "\n",
    "# Step 2: Balance the training set using oversampling (or undersampling, SMOTE, etc.)\n",
    "ros = RandomOverSampler(random_state=45)\n",
    "X_train_resampled, y_train_resampled = ros.fit_resample(X_train, y_train)\n",
    "\n",
    "\n",
    "# Train a Decision Tree classifier on the balanced dataset\n",
    "clf = DecisionTreeClassifier(random_state=45)\n",
    "clf.fit(X_train_resampled, y_train_resampled)\n",
    "\n",
    "# Make predictions and evaluate\n",
    "y_pred = clf.predict(X_test)\n",
    "print(f\"Model Accuracy: {accuracy_score(y_test, y_pred) * 100:.2f}%\")\n",
    "print(\"Classification Report:\")\n",
    "print(classification_report(y_test, y_pred))\n"
   ]
  },
  {
   "cell_type": "markdown",
   "id": "0d8210f7",
   "metadata": {},
   "source": [
    "## Cross Validation Results (Oversampled)"
   ]
  },
  {
   "cell_type": "code",
   "execution_count": null,
   "id": "3b298be3",
   "metadata": {},
   "outputs": [],
   "source": [
    "from sklearn.model_selection import cross_val_score\n",
    "\n",
    "# Perform cross-validation on the balanced training set\n",
    "scores = cross_val_score(clf, X_train_resampled, y_train_resampled, cv=5)\n",
    "print(f\"Cross-validation scores: {scores}\")\n",
    "print(f\"Average cross-validation score: {scores.mean()}\")\n"
   ]
  },
  {
   "cell_type": "markdown",
   "id": "5f569941",
   "metadata": {},
   "source": [
    "## Undersampled Prediction"
   ]
  },
  {
   "cell_type": "code",
   "execution_count": null,
   "id": "ba6733b2",
   "metadata": {},
   "outputs": [],
   "source": [
    "from imblearn.under_sampling import RandomUnderSampler\n",
    "\n",
    "# Step 2: Balance the training set using oversampling (or undersampling, SMOTE, etc.)\n",
    "ros = RandomUnderSampler(random_state=45)\n",
    "X_train_resampled, y_train_resampled = ros.fit_resample(X_train, y_train)\n",
    "\n",
    "\n",
    "# Train a Decision Tree classifier on the balanced dataset\n",
    "clf = DecisionTreeClassifier(random_state=45)\n",
    "clf.fit(X_train_resampled, y_train_resampled)\n",
    "\n",
    "# Make predictions and evaluate\n",
    "y_pred = clf.predict(X_test)\n",
    "print(f\"Model Accuracy: {accuracy_score(y_test, y_pred) * 100:.2f}%\")\n",
    "print(\"Classification Report:\")\n",
    "print(classification_report(y_test, y_pred))"
   ]
  },
  {
   "cell_type": "markdown",
   "id": "1b44bd94",
   "metadata": {},
   "source": [
    "## Cross Validation Results (Undersampled)"
   ]
  },
  {
   "cell_type": "code",
   "execution_count": null,
   "id": "e1ea7bdb",
   "metadata": {},
   "outputs": [],
   "source": [
    "from sklearn.model_selection import cross_val_score\n",
    "\n",
    "# Perform cross-validation on the balanced training set\n",
    "scores = cross_val_score(clf, X_train_resampled, y_train_resampled, cv=5)\n",
    "print(f\"Cross-validation scores: {scores}\")\n",
    "print(f\"Average cross-validation score: {scores.mean()}\")\n"
   ]
  },
  {
   "cell_type": "markdown",
   "id": "e6faeaf2",
   "metadata": {},
   "source": [
    "## ROC-AUC Results"
   ]
  },
  {
   "cell_type": "code",
   "execution_count": null,
   "id": "e79994d4",
   "metadata": {},
   "outputs": [],
   "source": [
    "from sklearn.metrics import roc_auc_score\n",
    "\n",
    "# Get probability predictions for ROC-AUC score\n",
    "y_pred_proba = clf.predict_proba(X_test)[:, 1]\n",
    "roc_auc = roc_auc_score(y_test, y_pred_proba)\n",
    "print(f\"ROC-AUC Score: {roc_auc:.2f}\")\n"
   ]
  }
 ],
 "metadata": {
  "kernelspec": {
   "display_name": "Python 3 (ipykernel)",
   "language": "python",
   "name": "python3"
  },
  "language_info": {
   "codemirror_mode": {
    "name": "ipython",
    "version": 3
   },
   "file_extension": ".py",
   "mimetype": "text/x-python",
   "name": "python",
   "nbconvert_exporter": "python",
   "pygments_lexer": "ipython3",
   "version": "3.12.7"
  }
 },
 "nbformat": 4,
 "nbformat_minor": 5
}
